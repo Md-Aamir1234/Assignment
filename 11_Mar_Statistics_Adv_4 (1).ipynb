{
  "nbformat": 4,
  "nbformat_minor": 0,
  "metadata": {
    "colab": {
      "provenance": []
    },
    "kernelspec": {
      "name": "python3",
      "display_name": "Python 3"
    },
    "language_info": {
      "name": "python"
    }
  },
  "cells": [
    {
      "cell_type": "markdown",
      "source": [
        "Q1: What is the difference between a t-test and a z-test? Provide an example scenario where you would\n",
        "use each type of test."
      ],
      "metadata": {
        "id": "GylO0M3r1N1V"
      }
    },
    {
      "cell_type": "code",
      "source": [
        "#Ans1.\n",
        "\n",
        "# Difference Between a t-test and a z-test\n",
        " Sample Size:\n",
        "\n",
        "#t-test: Used when the sample size is small (typically 𝑛 < 30).\n",
        "# z-test: Used when the sample size is large (typically 𝑛 ≥ 30).\n",
        "\n",
        "# Population Variance:\n",
        "\n",
        "→ t-test: Used when the population variance is unknown and needs to be estimated from the sample.\n",
        "→ z-test: Used when the population variance is known or when the sample size is large enough for the sample variance to approximate the population variance.\n",
        "\n",
        "# Distribution:\n",
        "\n",
        "→ t-test: Based on the t-distribution, which has heavier tails than the normal distribution. The shape of the t-distribution depends on the degrees of freedom (sample size).\n",
        "→ z-test: Based on the standard normal distribution (z-distribution), which is symmetric and has a mean of 0 and a standard deviation of 1.\n",
        "\n",
        "# Example Scenarios\n",
        "\n",
        "# t-test Example\n",
        "\n",
        "#Scenario: A researcher wants to compare the average test scores of two small groups of students to see if a new teaching method has a significant effect.\n",
        "\n",
        "#Groups: 15 students in the control group and 15 students in the experimental group.\n",
        "\n",
        "#Data: The sample mean and sample standard deviation of test scores for both groups are calculated.\n",
        "→ Test: A two-sample t-test is performed to determine if there is a statistically significant difference in the mean test scores between the two groups.\n",
        "\n",
        "# z-test Example:-\n",
        "\n",
        "# Scenario:\n",
        " →A factory wants to check if the average weight of the packages it produces meets the advertised weight.\n",
        " The factory produces thousands of packages daily, and the population standard deviation is known.\n",
        "\n",
        "# Sample: A random sample of 100 packages is taken.\n",
        "\n",
        "# Data: The sample mean weight is calculated, and the known population standard deviation is used.\n",
        "# Test: A one-sample z-test is performed to determine if the average weight of the sample is significantly different from the advertised weight.\n",
        "\n",
        "# Summary :\n",
        " → Use a t-test for small sample sizes and when the population variance is unknown.\n",
        " → Use a z-test for large sample sizes or when the population variance is known."
      ],
      "metadata": {
        "id": "nGYWVPz0xbYc"
      },
      "execution_count": null,
      "outputs": []
    },
    {
      "cell_type": "markdown",
      "source": [
        "Q2: Differentiate between one-tailed and two-tailed tests."
      ],
      "metadata": {
        "id": "BgrXBNES1N49"
      }
    },
    {
      "cell_type": "code",
      "source": [
        "#Ans2.\n",
        "\n",
        "# One-Tailed vs. Two-Tailed Tests\n",
        "\n",
        "# One-Tailed Test\n",
        "\n",
        "→ A one-tailed test (or directional test) is used when the research hypothesis specifies the direction of the effect or difference.\n",
        "\n",
        "# Hypothesis Direction:\n",
        "\n",
        "# Right-tailed: Tests if a parameter is greater than a certain value.\n",
        "\n",
        "# 1. Null hypothesis (𝐻0): 𝜇 ≤ μ0\n",
        "# 2. Alternate Hypothesis (H1) : 𝜇 > μ0\n",
        "\n",
        "\n",
        "# Left-tailed: Tests if a parameter is less than a certain value.\n",
        "\n",
        "# Null hypothesis (𝐻0): 𝜇 ≥ 𝜇0\n",
        "# Alternative hypothesis (H1) : 𝜇 < 𝜇0\n",
        "\n",
        "\n",
        "# Critical Region: The critical region is located in one tail of the distribution (either the left or right tail).\n",
        "\n",
        "# Usage Example: Testing whether a new drug increases the recovery rate. If the goal is to prove that the new drug is more effective, a right-tailed test is appropriate.\n",
        "\n",
        "# Two-Tailed Test:\n",
        "\n",
        "→ A two-tailed test (or non-directional test) is used  when the research hypothesis does not specify\n",
        " the direction of the effect or difference, only that there is an effect.\n",
        "\n",
        "# Hypothesis:\n",
        "\n",
        "→ Null hypothesis (H0) : 𝜇 = 𝜇0\n",
        "→ Alternative hypothesis (H1) : 𝜇 ≠ 𝜇0\n",
        "\n",
        "\n",
        "# Critical Region:\n",
        "→ The critical regions are located in both tails of the distribution (both the left and right tails).\n",
        "\n",
        "# Usage Example:\n",
        "→ Testing whether a new teaching method has a different effect on test scores compared to\n",
        "  the traditional method, without specifying whether the scores will be higher or lower.\n"
      ],
      "metadata": {
        "id": "WLeB576j70Ji"
      },
      "execution_count": null,
      "outputs": []
    },
    {
      "cell_type": "markdown",
      "source": [
        "Q3: Explain the concept of Type 1 and Type 2 errors in hypothesis testing. Provide an example scenario for\n",
        "each type of error."
      ],
      "metadata": {
        "id": "0dLZcjgL1N8l"
      }
    },
    {
      "cell_type": "code",
      "source": [
        "#Ans3.\n",
        "\n",
        "# Type 1 and Type 2 Errors in Hypothesis Testing :-\n",
        "→ In hypothesis testing, errors can occur when making decisions based on sample data. These errors are classified as Type 1 and Type 2 errors.\n",
        "\n",
        "# Type 1 Error (α):\n",
        "\n",
        "#Definition: A Type 1 error occurs when the null hypothesis ( H0) is true, but we incorrectly reject it.\n",
        "#Significance Level (𝛼) : The probability of making a Type 1 error is denoted by 𝛼,which is the significance level of the test (commonly set at 0.05).\n",
        "\n",
        "# Example Scenario:\n",
        "Suppose a medical researcher is testing a new drug to see if it is more effective than the current standard treatment.\n",
        "\n",
        "# Null Hypothesis (H0) : The new drug is not more effective than the standard treatment.\n",
        "# Alternative Hypothesis (𝐻1) : The new drug is more effective than the standard treatment.\n",
        "\n",
        "→ A Type 1 error would occur if the researcher concludes that the new drug is more effective\n",
        " when, in reality, it is not. This could lead to unnecessary costs and side effects for patients taking an ineffective drug.\n",
        "\n",
        "# Type 2 Error (β) :\n",
        "\n",
        "# Definition:\n",
        "\n",
        "→ A Type 2 error occurs when the null hypothesis (H0) is false, but we fail to reject it.\n",
        "\n",
        "# Power (1 − 𝛽1):\n",
        "→ The probability of correctly rejecting the null hypothesis\n",
        " when it is false is called the power of the test, and β is the probability of making a Type 2 error.\n",
        "\n",
        "# Example Scenario:\n",
        "→ Using the same medical research example:\n",
        "\n",
        "# Null Hypothesis (𝐻0): The new drug is not more effective than the standard treatment.\n",
        "# Alternative Hypothesis (H1) : The new drug is more effective than the standard treatment.\n",
        "\n",
        "→ A Type 2 error would occur if the researcher concludes that the new drug is not more effective when, in reality, it is.\n",
        "  This could prevent patients from receiving a potentially better treatment."
      ],
      "metadata": {
        "id": "jqpWsxAI71DI"
      },
      "execution_count": null,
      "outputs": []
    },
    {
      "cell_type": "markdown",
      "source": [
        "Q4:  Explain Bayes's theorem with an example."
      ],
      "metadata": {
        "id": "4_kKDLit1OKV"
      }
    },
    {
      "cell_type": "code",
      "source": [
        "#Ans4.\n",
        "\n",
        "# Bayes's Theorem :\n",
        "#→ Bayes's theorem is a fundamental theorem in probability theory that describes how to update the probability of a hypothesis based on new evidence.\n",
        "  It provides a way to revise existing predictions or beliefs (prior probabilities) in light of new data (likelihood).\n",
        "\n",
        "# Bayes Theorem is a approch to data analysis and parameter to estimate based on Baye's theorum.\n",
        "\n",
        "# Formula :\n",
        "#→ Bayes's theorem is mathematically expressed as:\n",
        "\n",
        "P(A|B) = (P(B|A) * P(A)) / P(B)\n",
        "Where :\n",
        " A , B = Events\n",
        " P(A|B) = Probability of A given B is True\n",
        " P(B|A) = Probability of B given A is True\n",
        " P(A) = Prior probability of A\n",
        " P(B) = Prior probability of B\n",
        " P(A) ,P(B) = The Independent Probability of A and B\n",
        "\n",
        "# Example :\n",
        "1 Rolling a Dice\n",
        "2 Tossing a Coin"
      ],
      "metadata": {
        "id": "JhfoVVMG71ap"
      },
      "execution_count": null,
      "outputs": []
    },
    {
      "cell_type": "markdown",
      "source": [
        "Q5: What is a confidence interval? How to calculate the confidence interval, explain with an example."
      ],
      "metadata": {
        "id": "DFwby9VF1OOF"
      }
    },
    {
      "cell_type": "code",
      "source": [
        "#Ans5.\n",
        "\n",
        "→ A confidence interval (CI) is a range of values, derived from sample data, that is likely to contain the population parameter (such as the population mean) with a certain level of confidence.\n",
        "It provides an estimated range that is believed to encompass the true parameter value with a specified probability (confidence level, typically 95% or 99%).\n",
        "\n",
        "# Formula : To calculate a confidence interval for a population mean ,\n",
        "\n",
        " CI = x̄ ± Z_(α⁄2) * (σ/√n)\n",
        "\n",
        " Where :\n",
        "\n",
        "〖 Z〗_(α⁄2) = Is the critical value from the standard normal distribution (Z-distribution) corresponding to the desired confidence level .\n",
        "x̄ = Is the sample mean.\n",
        "σ = Is the population standard deviation (if the population standard deviation is known).\n",
        "n = is the sample size.\n",
        "\n",
        "If the population standard deviation is unknown and the sample size is small (typically 𝑛 < 30), we use the t-distribution instead of the Z-distribution:\n",
        "\n",
        "CI = x̄ ± 〖 Z〗_(α⁄2),df * (s/√n)\n",
        "\n",
        "Where:\n",
        "\n",
        "x〖 Z〗_(α⁄2),df = Is the critical value from the t-distribution with 𝑑𝑓 degrees of freedom (df) = n -1 dof,\n",
        "x̄ = Is the sample mean.\n",
        "s = Is the sample standard deviation.\n",
        "n = Is the sample size.\n",
        "df = Is the degrees of freedom (sample size minus 1).\n",
        "\n",
        "# Example :\n",
        "1 Rolling a Dice\n",
        "2 Tossing a Coin\n"
      ],
      "metadata": {
        "id": "EvcAAmp472Lo"
      },
      "execution_count": null,
      "outputs": []
    },
    {
      "cell_type": "markdown",
      "source": [
        "Q6. Use Bayes' Theorem to calculate the probability of an event occurring given prior knowledge of the\n",
        "event's probability and new evidence. Provide a sample problem and solution."
      ],
      "metadata": {
        "id": "ijAmrEo11ORG"
      }
    },
    {
      "cell_type": "code",
      "source": [
        "#Ans6.\n",
        "\n",
        "# Using Bayes' Theorem to Calculate Probability :\n",
        "\n",
        "→ Let's use Bayes' Theorem to solve a problem involving a medical test.\n",
        "\n",
        "# Problem :\n",
        "Q. A certain disease affects 0.5% of the population. A diagnostic test for the disease has the following characteristics:\n",
        "\n",
        "Sensitivity (true positive rate): 99%\n",
        "Specificity (true negative rate): 95%\n",
        "If a person tests positive, what is the probability that they actually have the disease?\n",
        "\n",
        "# Given Data :\n",
        "\n",
        "→ P(D) = 0.005 (prior probability of having the disease)\n",
        "\n",
        "→ P(T|D) = 0.99 (probability of testing positive given the disease, sensitivity)\n",
        "\n",
        "→ P(T∣D^c) = 0.05 (probability of testing positive given the disease, sensitivity)\n",
        "We need to find P(D|T)  the probability of having the disease given a positive test result.\n",
        "\n",
        "# Baye's Theorum Formula :\n",
        "\n",
        " P(D|T) = (P(T|D) * P(D)) / P(T)\n",
        "\n",
        "→ To find P(T) (the total probability of testing positive), we use the law of total probability:\n",
        "\n",
        " P(T)  =  P(T|D) * P(D) + P(T|D^c) * P(D^c)\n",
        "\n",
        " where P(D^c) is the probability of not having the disease.\n",
        "\n",
        "# Step-by-Step Solution:\n",
        "\n",
        "P(D^c) = 1 - P(D) = 1 - 0.005 = 0.995 (probability of not having the disease)\n",
        "\n",
        "# 2. Calculate P(T) using the law of total probability:\n",
        "\n",
        "P(T) = P(T|D) * P(D) + P(T|D^c) * P(D^c)\n",
        "P(T ) = (0.99 * 0.005) + (0.05 * 0.995)\n",
        " P(T) = 0.0547\n",
        "\n",
        "# 3. Use Bayes' Theorem to calculate P(D|T) :\n",
        "\n",
        "P(D|T) = (P(T|D) * P(D)) / P(T)\n",
        "P(D|T) = (0.99 * 0.005) / 0.0547 ≈ 0.0905\n",
        "\n",
        "P(D|T) ≈ 0.0905\n",
        "\n",
        "# Interpretation :\n",
        "→ The probability that a person actually has the disease given a positive test result is approximately 9.05%. Despite the high sensitivity\n",
        " and specificity of the test, the low prior probability of the disease (0.5%) leads to a relatively low posterior probability.\n",
        " This is a common scenario in medical testing for rare diseases, highlighting the importance of considering both the test characteristics and\n",
        "  the prevalence of the condition when interpreting test results.\n"
      ],
      "metadata": {
        "id": "uPOIPmLO73V0"
      },
      "execution_count": null,
      "outputs": []
    },
    {
      "cell_type": "markdown",
      "source": [
        "Q7. Calculate the 95% confidence interval for a sample of data with a mean of 50 and a standard deviation\n",
        "of 5. Interpret the results.\n"
      ],
      "metadata": {
        "id": "3ECDjAEI1OUl"
      }
    },
    {
      "cell_type": "code",
      "source": [
        "#Ans7.\n",
        "\n",
        "→ To calculate the 95% confidence interval for a sample mean, we'll use the following formula for a confidence interval for the mean\n",
        "  when the sample size is large and the population standard deviation is known or the sample size is large enough (usually n ≥ 30) :\n",
        "\n",
        "sample mean (x̄)= 50\n",
        "Sample stadard deviation (σ) = 5 , CI = 95% , α = 0.05 n= ?\n",
        "\n",
        "# Determine the critical value (Z_(α⁄2)) :\n",
        "For a 95% confidence level, the critical value from the standard normal distribution (Z-distribution) is approximately 1.96.\n",
        "\n",
        "# Calculate the standard error (SE) :\n",
        " Standard error (SE) = (σ/√n) = (5/√100) = 5/10 = 0.5\n",
        "\n",
        "# Sample size (n) is not provided in the problem. To proceed, lets assume\n",
        " reasonable sample size. For illustration, we'll assume n = 100\n",
        "\n",
        "# Calculate the margin of error (ME) :\n",
        "Margin of error (ME) = Z_(α/2) * SE = 1.96 * 0.5 = 0.98\n",
        "\n",
        "# find the Confidence Interval (CI) :\n",
        "\n",
        "Confidence Interval   = [ x̄ ± Z_(α/2)* (σ/√n)] or x̄ ± ME\n",
        "\n",
        "                      = 50  ± (1.96)*(5/√100)\n",
        "                      = (50 ± 0.98)\n",
        "\n",
        "Confidence Interval   = (50 -0.98) = 49.02\n",
        "                      = (50 +0.98) = 50.98\n",
        "\n",
        "# Conclusion or Interpretation :\n",
        "→ The 95% confidence interval for the population mean is $49.02 to $50.98.\n",
        " This means we are 95% confident that the true population mean lies within this range.\n",
        "\n",
        "# Note:\n",
        "→The confidence interval calculation is sensitive to the sample size.\n",
        " If the sample size is different from our assumption, the standard error and margin of error will change,\n",
        " resulting in a different confidence interval. For more accurate results, the exact sample size should be used.\n"
      ],
      "metadata": {
        "id": "BLUA7e_F747y"
      },
      "execution_count": null,
      "outputs": []
    },
    {
      "cell_type": "markdown",
      "source": [
        "Q8. What is the margin of error in a confidence interval? How does sample size affect the margin of error?\n",
        "Provide an example of a scenario where a larger sample size would result in a smaller margin of error."
      ],
      "metadata": {
        "id": "8nD2Vg7Q1OX-"
      }
    },
    {
      "cell_type": "code",
      "source": [
        "#Ans8.\n",
        "\n",
        "→The margin of error (ME) in a confidence interval is a measure of the range within which we expect the true population parameter (such as the mean) to\n",
        " lie, given the sample data. It represents the maximum expected diffrence between the sample statistics\n",
        " and the true population parameter.\n",
        "\n",
        "# Sample Size Affect the Margin of Error :\n",
        "\n",
        "→The sample size(n) has an inverse relationship with the margin of error. As the sample size increases, the margin of error decreases.\n",
        " This is because the standard error (σ/√n)\n",
        " decreases as (n) increases, leading to a smaller margin of error.\n",
        "\n",
        "# Determine the critical value (Z_(α⁄2)) :\n",
        "\n",
        "For a 95% confidence level, the critical value from the standard normal distribution (Z-distribution) is approximately 1.96.\n",
        "\n",
        "# Calculate the standard error (SE) :\n",
        " Standard error (SE) = (σ/√n) = (5/√100) = 5/10 = 0.5\n",
        "\n",
        "# Sample size (n) is not provided in the problem. To proceed, lets assume\n",
        " reasonable sample size. For illustration, we'll assume n = 100\n",
        "\n",
        "# Calculate the margin of error (ME) :\n",
        "Margin of error (ME) = (Z_(α/2)) * SE = 1.96 * 0.5 = 0.98\n",
        "\n",
        "Confidence Interval   = [ x̄ ± (Z_(α/2))* (σ/√n)]\n",
        "\n",
        "                      = 50  ± (1.96)*(5/√100)\n",
        "\n",
        "Confidence Interval   = (50 -0.98) = 49.02\n",
        "                      = (50 +0.98) = 50.98\n",
        "\n",
        "# Conclusion:\n",
        " →Sample Size of 100 : The 95% confidence interval is (49.02, 50.98). The margin of error is 0.98\n",
        "\n",
        "# Notes :\n",
        "→As seen in this example, a larger sample size results in a smaller margin of error.\n",
        " This means that with a larger sample, we can be more confident that the interval estimate is closer to the true population parameter.\n",
        " Therefore, increasing the sample size improves the precision of the estimate.\n"
      ],
      "metadata": {
        "id": "gv7R2FQK75wZ"
      },
      "execution_count": null,
      "outputs": []
    },
    {
      "cell_type": "markdown",
      "source": [
        "Q9. Calculate the z-score for a data point with a value of 75, a population mean of 70, and a population\n",
        "standard deviation of 5. Interpret the results."
      ],
      "metadata": {
        "id": "txXMLAbF1Obm"
      }
    },
    {
      "cell_type": "code",
      "source": [
        "#Ans9.\n",
        "\n",
        "→ The z-score (or standard score) is a measure of how many standard deviations a data point is from the mean of the distribution.\n",
        " It is calculated using the formula:\n",
        "\n",
        "z = (x - μ) / σ\n",
        "\n",
        "Where:\n",
        "x = Value of the data point\n",
        "μ = Population mean\n",
        "σ = Population standard deviation\n",
        "\n",
        "x = 75\n",
        "μ = 70\n",
        "σ = 5\n",
        "\n",
        "z = (75 - 70) / 5 = 1\n",
        "z = 1\n",
        "\n",
        "# Interpretation :\n",
        "The z-score for the data point with a value of 75 is 1.\n",
        "This means that the data point is 1 standard deviation above the mean of the distribution.\n",
        "\n",
        "# Interpretation in Context :-\n",
        "\n",
        "#1. Position Relative to the Mean:\n",
        "\n",
        "A z-score of 1 indicates that the data point is exactly one standard deviation above the population mean.\n",
        "This tells us that 75 is slightly higher than the average value of 70.\n",
        "\n",
        "#2. Comparing to Other Data Points:\n",
        "\n",
        "Z-scores allow for comparison across different datasets or distributions.\n",
        " A z-score of 1 in any normal distribution represents the same relative position, regardless of the specific mean and standard deviation.\n",
        "\n",
        "#3. Probability and Percentiles:\n",
        "\n",
        "In a standard normal distribution (mean of 0 and standard deviation of 1), a z-score of 1 corresponds approximately to the 84th percentile.\n",
        "This means that 75 is greater than approximately 84% of the values in the distribution.\n",
        "\n",
        "# Summary:-\n",
        "The data point of 75 is one standard deviation above the mean of 70, indicating it is relatively close to the mean\n",
        "but on the higher side. In terms of probability, it falls around the 84th percentile in a standard normal distribution.\n",
        "This z-score helps understand the data points position within the overall distribution.\n"
      ],
      "metadata": {
        "id": "kHl7ISdD76SY"
      },
      "execution_count": null,
      "outputs": []
    },
    {
      "cell_type": "markdown",
      "source": [
        "Q10. In a study of the effectiveness of a new weight loss drug, a sample of 50 participants lost an average\n",
        "of 6 pounds with a standard deviation of 2.5 pounds. Conduct a hypothesis test to determine if the drug is\n",
        "significantly effective at a 95% confidence level using a t-test."
      ],
      "metadata": {
        "id": "SY8cglRH1OfD"
      }
    },
    {
      "cell_type": "code",
      "source": [
        "#Ans10.\n",
        "\n",
        "→To determine if the new weight loss drug is significantly effective,\n",
        " we will conduct a one-sample t-test.\n",
        "\n",
        "Given :\n",
        "Sample size(n) = 50\n",
        "Sample mean(x̄) = 6 pounds\n",
        " population mean under the null hypothesis (0 in this case)= μ_0 = 0\n",
        "Sample standard deviation(s) = 2.5 pounds\n",
        "Confidence level = 95% (Corresponds to a significance level α of 0.05 )\n",
        "\n",
        "# Null Hypothesis (Ho) : The drug is not effective, i.e, the average weight loss is equal to 0 pounds\n",
        "# Alternate Hypothesis (H_1) : The drug is effective , i.e, the average weight loss is greater than 0 pounds.\n",
        " H_1 : μ > 0\n",
        "\n",
        "# Calculate the Test Statistic :\n",
        "\n",
        "  t =  (x̄ - μ_0)/(s/√n)\n",
        "  t = (6 - 0)/(2.5/√50)\n",
        "  t = 16.97\n",
        "\n",
        "# Determine the Critical Value and Decision Rule\n",
        "\n",
        "→ For a one-tailed t-test at a 95% confidence level and Degree of freedom (df) = n-1 = 50-1 = 49\n",
        "  We use the t-distribution table to find the critical value for α = 0.05 and df = 49\n",
        " The critical value t_0.05,49 is approximate 1.677\n",
        "\n",
        "# Make a Decision :\n",
        "\n",
        "→if the t-statistic is greater than the critical value , we reject the null Hypothesis.\n",
        "\n",
        " In this case :\n",
        " t =  16.97 > 1.677 , We reject the null hypothesis\n",
        "\n",
        "\n",
        "# Conclusion :\n",
        "→ Based on the t-test, we reject the null hypothesis at the 95% confidence level.\n",
        " This suggests that the new weight loss drug is significantly effective in reducing weight,\n"
      ],
      "metadata": {
        "id": "UWpGYizy764R"
      },
      "execution_count": null,
      "outputs": []
    },
    {
      "cell_type": "markdown",
      "source": [
        "Q11. In a survey of 500 people, 65% reported being satisfied with their current job. Calculate the 95%\n",
        "confidence interval for the true proportion of people who are satisfied with their job."
      ],
      "metadata": {
        "id": "YaCBCb8U1Oic"
      }
    },
    {
      "cell_type": "code",
      "source": [
        "#Ans11.\n",
        "\n",
        "Given data :\n",
        "Sample size (n) = 500\n",
        "Sample proportion (p) = 0.65 (65%)\n",
        "Confidence level = 95% (Corresponds to a significance level , α = 0.05 )\n",
        "\n",
        "# Calculating the 95% Confidence Interval for a Proportion :\n",
        " We use the formula for the confidence interval for a population proportion:\n",
        "\n",
        "#  CI = p ± z_α/2 * √(p(1-p)/n)\n",
        "\n",
        " Determine the critical value (Z_α/2) :\n",
        "\n",
        "For a 95% confidence level, the critical value from the standard normal distribution is approximately 1.96.\n",
        "\n",
        "# Calculate the standard error (SE) :\n",
        " SE = √(p(1-p)/n) = √(0.65(1-0.65)/500) ≈ 0.0213\n",
        "\n",
        "# Calculate the margin of error (ME) :\n",
        " ME = Z_α/2 * SE = 1.96 * 0.0213 ≈ 0.0417\n",
        "\n",
        "# Construct the Confidence interval :\n",
        "\n",
        " CI   =     p ± ME = 0.65 ± 0.0417\n",
        "\n",
        "Confidence Interval   = (0.65 - 0.0417) = 0.6083\n",
        "                      = (0.65 + 0.0417) = 0.6917\n",
        "\n",
        "# Conclusion :\n",
        "→ The 95% confidence interval for the true proportion of people who are satisfied with their job is approximately (0.6083 , 0.6917) or (60.83%, 69.17%).\n",
        " This means that we are 95% confident that the true proportion of people who are satisfied with their job lies within this range.\n",
        "\n",
        "\n"
      ],
      "metadata": {
        "id": "0aUoHWEF77kx"
      },
      "execution_count": null,
      "outputs": []
    },
    {
      "cell_type": "markdown",
      "source": [
        "Q12. A researcher is testing the effectiveness of two different teaching methods on student performance.\n",
        "Sample A has a mean score of 85 with a standard deviation of 6, while sample B has a mean score of 82\n",
        "with a standard deviation of 5. Conduct a hypothesis test to determine if the two teaching methods have a\n",
        "significant difference in student performance using a t-test with a significance level of 0.01."
      ],
      "metadata": {
        "id": "NI8zfaZz1OmD"
      }
    },
    {
      "cell_type": "code",
      "source": [
        "#Ans12.\n",
        "\n",
        "# To determine if there is a significant difference in student performance between the two teaching methods,\n",
        " we will conduct an independent two-sample t-test\n",
        "\n",
        "# Find the Test Statistic :\n",
        "  The test statistic for an independent two -sample t-test is given by :\n",
        "\n",
        "  t = (x̄1 - x̄2) / √((s1^2/n1) + (s2^2/n2))\n",
        "\n",
        "# Given : Sample 1.\n",
        "\n",
        " Mean (x̄1) = 85\n",
        " Standard Deviation (s1) = 6\n",
        " Sample size (n1) = 30 (Assuming the sample size for both groups is 30 for this example)\n",
        "\n",
        "# Given : Sample 2.\n",
        "\n",
        " Mean (x̄2) = 82\n",
        " Standard Deviation (s2) = 5\n",
        " Sample size (n2) = 30 (Assuming the sample size for both groups is 30 for this example)\n",
        "\n",
        "# Null Hypothesis (Ho) : There is no significant diffrence in the mean scores of the two teaching methods.\n",
        "  Ho :  μ1 = μ2\n",
        "\n",
        "# Alternate Hypothesis (H1) : There is a significant diffrence in the mean scores of the two teaching methods.\n",
        "  H1 : μ1 ≠ μ2\n",
        "\n",
        "# The statistic for an independent two-sample t-test is given by :\n",
        "\n",
        "  t = (x̄1 - x̄2) / √((s1^2/n1) + (s2^2/n2))\n",
        "\n",
        "#  Calculation :\n",
        "  Calulate the pooled standard error :\n",
        "\n",
        "  SE =  √((s1^2/n1) + (s2^2/n2))\n",
        "  SE  =  √(6^2/30 + 5^2/30) = √(2.0333) = 1.426\n",
        "  SE  ≈ 1.426\n",
        "\n",
        "# Calculate the t- statistic\n",
        "\n",
        " t = (x̄1 - x̄2) / √((s1^2/n1) + (s2^2/n2))\n",
        " t = 85 - 82 /1.426  ≈ 2.103\n",
        " t ≈  2.103\n",
        "\n",
        "# Determine the Critical Value:\n",
        "\n",
        " For a two-tailed t-test with a significance level (α) 0f 0.01 and\n",
        " Degree of freedom = n1 + n2 - 2 = 30+30 -2 = 58\n",
        " We need to find the critical t-value refer the t-distribution table\n",
        "\n",
        "# Using the t-distribution table or calculator :\n",
        "  t = t_0.005,58 ≈ 2.660\n",
        "\n",
        "# Make a Decision :\n",
        " if the absolute value of the stastistic is greater than the critical t-value,\n",
        " We reject the null Hypothesis\n",
        "\n",
        " In this case :\n",
        "\n",
        " t  ≈  2.103\n",
        " t_critical ≈ 2.660\n",
        "\n",
        " Since 2.103 < 2.660\n",
        " Since 2.103 > -2.660 , we fail to reject the null hypothesis. (means Accept th Null Hypothesis)\n",
        "\n",
        "\n",
        "# Conclusion :\n",
        " At the 0.01 significance level, we do not have enough evidence to conclude that\n",
        " there is a significant difference in student performance between the two teaching methods.\n",
        " Therefore, the difference in mean scores (85 for Sample A and 82 for Sample B) is not statistically significant at this level.\n",
        "\n"
      ],
      "metadata": {
        "id": "UiIAaswK78GN"
      },
      "execution_count": null,
      "outputs": []
    },
    {
      "cell_type": "markdown",
      "source": [
        "Q13. A population has a mean of 60 and a standard deviation of 8. A sample of 50 observations has a mean\n",
        "of 65. Calculate the 90% confidence interval for the true population mean."
      ],
      "metadata": {
        "id": "ZY9f5Mkd1Opu"
      }
    },
    {
      "cell_type": "code",
      "source": [
        "#Ans13.\n",
        "\n",
        "→ Calculate the Confidence Interval for a true population mean, we use the formula for the confidence interval .\n",
        "\n",
        " CI = x̄ ± z * (σ/√n)\n",
        "\n",
        "Given :\n",
        "\n",
        "Population mean (μ) = 60 (not used in the CI formula ,but provided)\n",
        "Population standard deviation (σ) = 8\n",
        " Sample size (n) = 50\n",
        " sample mean (x̄)= 65\n",
        "CI = 90% ,\n",
        "Significance level (α) = 1-0.90 = 0.10\n",
        "\n",
        "\n",
        "# Determine the critical value (〖 Z〗_(α⁄2)) :\n",
        " For a 90% confidence level, 〖 Z〗_(α⁄2)= 1.645 (standard normal distribution)\n",
        "\n",
        "# Calculate the standard error (SE) :\n",
        "\n",
        " Standard error (SE) = (σ/√n) = (8/√50) = 5/7.071 = 1.131\n",
        "\n",
        "# Calculate the margin of error (ME) :\n",
        "\n",
        " Margin of error (ME) = 〖 Z〗_(α⁄2) * SE = 1.645 *1.131 ≈ 1.860\n",
        "\n",
        "# find the Confidence Interval (CI) :\n",
        "\n",
        " Confidence Interval (CI)   = [ x̄ ± 〖 Z〗_(α⁄2)* (σ/√n)]\n",
        " OR\n",
        " Confidence Interval   = x̄ ± ME\n",
        "\n",
        "                      = 65 ± 1.860\n",
        " Confidence Interval   = (65 - 1.860) = 63.140\n",
        "                      = (65 + 1.860) = 68.860\n",
        "\n",
        "# Conclusion or Interpretation :\n",
        "→ The 90% confidence interval for the population mean is approximately (63.14, 66.86)\n",
        "This means that we are 90% condident that the true population mean lies within this range .\n",
        "If we were to take many samples and construct confidence intervals in the same way,\n",
        "approximately 90% of those intervals would contain the true population mean.\n"
      ],
      "metadata": {
        "id": "qMVqY94T78or"
      },
      "execution_count": null,
      "outputs": []
    },
    {
      "cell_type": "markdown",
      "source": [
        "Q14. In a study of the effects of caffeine on reaction time, a sample of 30 participants had an average\n",
        "reaction time of 0.25 seconds with a standard deviation of 0.05 seconds. Conduct a hypothesis test to\n",
        "determine if the caffeine has a significant effect on reaction time at a 90% confidence level using a t-test"
      ],
      "metadata": {
        "id": "qZRCJ94I1Otv"
      }
    },
    {
      "cell_type": "code",
      "source": [
        "#Ans14.\n",
        "\n",
        "To determine if caffeine has a significant effect on reaction time, we can conduct a one-sample t-test. Here are the steps to perform this hypothesis test:\n",
        "\n",
        "# Calculate the Test Statistic :\n",
        "\n",
        "t =  (x̄ - μ)/(s/√n)\n",
        "\n",
        "Given data :\n",
        "Sample size (n) = 30\n",
        "Sample mean (x̄) = 0.25 seconds\n",
        "Sample standard deviation (s) = 0.05 seconds\n",
        "Confidence level = 90% (Corresponds to a significance level , α = 0.10 )\n",
        "Significance level (α) = 1-0.90 = 0.10\n",
        "\n",
        "# State the Hypothesis\n",
        "\n",
        "Null Hypothesis (Ho): Caffeine does not have a significant effect on reaction time.\n",
        " This means the population mean reaction time with caffeine is equal to some known value, typically a known baseline reaction time.\n",
        "  Without a specific baseline provided, we can assume the baseline mean reaction time (μ) to be 0.25 seconds, the same as the sample mean (for the sake of illustration).\n",
        "Ho : μ = 0.25\n",
        "\n",
        "Alternative Hypothesis (H1) : Caffeine has a significant effect on reaction time.\n",
        "This means the population mean reaction time with caffeine is different from the known value (baseline reaction time).\n",
        "H1 : μ ≠ 0.25\n",
        "\n",
        "# Calculate the Test Statistic :\n",
        "t = (x̄ - μ)/(s/√n)\n",
        "\n",
        "# Calculate the standard error (SE) :\n",
        " SE   = (s/√n)\n",
        "      =  0.05/√30 = 0.05/5.477 = 0.00913\n",
        "  SE  ≈ 0.00913\n",
        "\n",
        "# Calculate the t-statistic :\n",
        " t = (x̄ - μ)/(s/√n)\n",
        " t = (0.25 - 0.25)/(0.00913) = 0\n",
        " t = 0\n",
        "\n",
        " # Determine the Critical Value :\n",
        "\n",
        "→ For a two-tailed test with a significance level () of 0.10 and\n",
        "→ Degree of freedom = n-1 = 30-1 = 29\n",
        "→ We need to find the critical t-value refer the t-distribution table and calculate.\n",
        "\n",
        " t_0.05,29 ≈ 1.699\n",
        "\n",
        " # Make a Decision :\n",
        "\n",
        " → compare the calculted t-statistic with the critical t-value.\n",
        "  if the absolute value of the t-statistic is greater than the critical t-value,\n",
        "  we reject the Null Hypothesis.\n",
        "\n",
        " In this case :\n",
        " t = 0 ,\n",
        " t_critical ≈ 1.699\n",
        "\n",
        " t = 0 < 1.699 , We do not reject the Null Hypothesis. (means Accept the null Hypothesis)\n",
        "\n",
        "\n",
        "\n",
        " Since 0 < 1.699 , we fail to reject the Null Hypothesis.\n",
        "\n",
        "# Conclusion :\n",
        "\n",
        "→ At the 90% confidence level, we do not have enough evidence to conclude that caffeine has a significant effect on reaction time.\n",
        "The difference in mean reaction time (0.25 seconds) is not statistically significant at this level.\n",
        "Therefore, we fail to reject the null hypothesis, suggesting that the sample mean is not significantly different from the assumed population mean reaction time.\n"
      ],
      "metadata": {
        "id": "om_i7Al-79Ha"
      },
      "execution_count": null,
      "outputs": []
    }
  ]
}